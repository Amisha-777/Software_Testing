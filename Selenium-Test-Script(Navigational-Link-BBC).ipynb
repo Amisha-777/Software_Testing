{
 "cells": [
  {
   "cell_type": "markdown",
   "id": "7882ccc7-9632-4edb-973c-1b884dddfcba",
   "metadata": {},
   "source": [
    "# Selenium Test Script: Validate \"US & Canada\" Navigational Link on BBC News"
   ]
  },
  {
   "cell_type": "code",
   "execution_count": 4,
   "id": "0334fba3-98e0-4844-833d-e89e941d11e4",
   "metadata": {},
   "outputs": [],
   "source": [
    "# importing required libraries \n",
    "from selenium import webdriver\n",
    "from selenium.webdriver.edge.service import Service\n",
    "from selenium.webdriver.common.by import By\n",
    "import requests\n",
    "import time"
   ]
  },
  {
   "cell_type": "code",
   "execution_count": 5,
   "id": "b6441b53-e2be-40ba-b671-bff854a414eb",
   "metadata": {},
   "outputs": [],
   "source": [
    "# Set up Edge WebDriver\n",
    "edge_service = Service(executable_path=r\"C:\\Users\\hp\\edgedriver_win64\\msedgedriver.exe\")\n",
    "driver = webdriver.Edge(service=edge_service)"
   ]
  },
  {
   "cell_type": "code",
   "execution_count": 6,
   "id": "355946ba-4429-4151-afbb-be7e95591b13",
   "metadata": {},
   "outputs": [
    {
     "name": "stdout",
     "output_type": "stream",
     "text": [
      "Found link: US & Canada\n",
      "✅ Valid link response for: https://www.bbc.com/news/us-canada\n",
      "✅ Navigation successful for: https://www.bbc.com/news/us-canada\n"
     ]
    }
   ],
   "source": [
    "# Using try except to prevent script crashes, error handling (missing elements, network issues), and smooth execution\n",
    "try:\n",
    "    # Open BBC News website\n",
    "    driver.get(\"https://www.bbc.com/news\")\n",
    "\n",
    "    # Wait for elements to load\n",
    "    time.sleep(3)\n",
    "\n",
    "    # Find the \"US & Canada\" link using PARTIAL_LINK_TEXT\n",
    "    element = driver.find_element(By.PARTIAL_LINK_TEXT, \"US & Canada\")\n",
    "    print(f\"Found link: {element.text}\")\n",
    "\n",
    "    # Get the href attribute (URL of the link)\n",
    "    link_url = element.get_attribute(\"href\")\n",
    "\n",
    "    if link_url:\n",
    "        # Send an HTTP request to check if the link is valid\n",
    "        response = requests.get(link_url)\n",
    "\n",
    "        if response.status_code == 200:\n",
    "            print(f\"✅ Valid link response for: {link_url}\")\n",
    "\n",
    "            # Navigate to the URL automatically\n",
    "            driver.get(link_url)\n",
    "\n",
    "            # Wait for page to load\n",
    "            time.sleep(3)\n",
    "\n",
    "            # Validate if navigation was successful\n",
    "            if \"us-canada\" in driver.current_url.lower():\n",
    "                print(f\"✅ Navigation successful for: {driver.current_url}\")\n",
    "            else:\n",
    "                print(f\"❌ Navigation failed. Current URL: {driver.current_url}\")\n",
    "\n",
    "        else:\n",
    "            print(f\"❌ Broken link: {link_url} - Status Code: {response.status_code}\")\n",
    "\n",
    "    else:\n",
    "        print(\"⚠️ No valid URL found for the link.\")\n",
    "\n",
    "except Exception as e:\n",
    "    print(f\"⚠️ An error occurred: {e}\")\n",
    "\n",
    "finally:\n",
    "    # Ensures the browser closes even if an error occurs.\n",
    "    driver.quit()"
   ]
  }
 ],
 "metadata": {
  "kernelspec": {
   "display_name": "Python 3 (ipykernel)",
   "language": "python",
   "name": "python3"
  },
  "language_info": {
   "codemirror_mode": {
    "name": "ipython",
    "version": 3
   },
   "file_extension": ".py",
   "mimetype": "text/x-python",
   "name": "python",
   "nbconvert_exporter": "python",
   "pygments_lexer": "ipython3",
   "version": "3.12.1"
  }
 },
 "nbformat": 4,
 "nbformat_minor": 5
}
