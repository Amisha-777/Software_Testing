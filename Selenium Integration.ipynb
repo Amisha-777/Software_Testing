{
 "cells": [
  {
   "cell_type": "markdown",
   "id": "aeb2ffba-7457-49df-941a-063b9184c6e9",
   "metadata": {},
   "source": [
    "# Selenium Integration in Python"
   ]
  },
  {
   "cell_type": "code",
   "execution_count": 1,
   "id": "9927f8cf-ee3a-4277-9926-316987bc9f49",
   "metadata": {},
   "outputs": [],
   "source": [
    "# Importing Required Library\n",
    "from selenium import webdriver\n",
    "from selenium.webdriver.chrome.service import Service\n",
    "from selenium.webdriver.common.by import By\n",
    "from selenium.webdriver.common.keys import Keys\n",
    "import time"
   ]
  },
  {
   "cell_type": "code",
   "execution_count": 2,
   "id": "f7b656a3-6d7a-4c4c-9ac7-d599fc50a5b9",
   "metadata": {},
   "outputs": [],
   "source": [
    "chromeService = Service(executable_path = r\"C:\\Users\\hp\\edgedriver_win64\\msedgedriver.exe\")\n",
    "ieService = Service(executable_path = r\"C:\\Users\\hp\\edgedriver_win64\\msedgedriver.exe\")"
   ]
  },
  {
   "cell_type": "code",
   "execution_count": 3,
   "id": "51038d07-ca06-40b5-98d1-2a69bed894cc",
   "metadata": {},
   "outputs": [
    {
     "name": "stdout",
     "output_type": "stream",
     "text": [
      "Amazon.ca: Low Prices – Fast Shipping – Millions of Items\n"
     ]
    }
   ],
   "source": [
    "driver = webdriver.Edge(service = ieService) # Set up WebDriver (e.g., for Edge)\n",
    "driver.get(\"https://www.amazon.ca/\")\n",
    "print(driver.title) # Print the page title\n",
    "time.sleep(8) \n",
    "driver.quit() # Close the browser after 8 seconds"
   ]
  },
  {
   "cell_type": "code",
   "execution_count": 25,
   "id": "f5373460-6579-4bd4-a479-b6d44a02b00d",
   "metadata": {},
   "outputs": [
    {
     "name": "stdout",
     "output_type": "stream",
     "text": [
      "https://www.google.com/search?q=Selenium+WebDriver&sca_esv=774fedfe766cb58a&source=hp&ei=NH2uZ9GNG7T-ptQPnb2dyAk&iflsig=ACkRmUkAAAAAZ66LRJA4eLaSaW2qoDMWP9idcst08mix&ved=0ahUKEwjR9-Xv48GLAxU0v4kEHZ1eB5kQ4dUDCBA&uact=5&oq=Selenium+WebDriver&gs_lp=Egdnd3Mtd2l6IhJTZWxlbml1bSBXZWJEcml2ZXIyBRAAGIAEMgUQABiABDIFEAAYgAQyBRAAGIAEMgUQABiABDIFEAAYgAQyBRAAGIAEMgUQABiABDIFEAAYgAQyBRAAGIAESK8BUABYRHAAeACQAQGYAWSgAdoCqgEDMy4xuAEDyAEA-AEBmAIDoAKKApgDAJIHATOgB_gW&sclient=gws-wiz&sei=NX2uZ7eIOfmU5OMPs7LXiQQ\n"
     ]
    }
   ],
   "source": [
    "driver = webdriver.Edge() # Set up WebDriver (e.g., for edge)\n",
    "driver.get(\"https://www.google.com\") # Open Google\n",
    "# Find the search box and type a query\n",
    "search_box = driver.find_element(By.NAME, \"q\")\n",
    "search_box.send_keys(\"Selenium WebDriver\")\n",
    "search_box.send_keys(Keys.RETURN)\n",
    "\n",
    "print(driver.title) # Print the page title\n",
    "driver.quit() # Close the browser"
   ]
  }
 ],
 "metadata": {
  "kernelspec": {
   "display_name": "Python 3 (ipykernel)",
   "language": "python",
   "name": "python3"
  },
  "language_info": {
   "codemirror_mode": {
    "name": "ipython",
    "version": 3
   },
   "file_extension": ".py",
   "mimetype": "text/x-python",
   "name": "python",
   "nbconvert_exporter": "python",
   "pygments_lexer": "ipython3",
   "version": "3.12.1"
  }
 },
 "nbformat": 4,
 "nbformat_minor": 5
}
